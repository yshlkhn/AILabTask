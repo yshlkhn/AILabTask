{
  "nbformat": 4,
  "nbformat_minor": 0,
  "metadata": {
    "colab": {
      "provenance": []
    },
    "kernelspec": {
      "name": "python3",
      "display_name": "Python 3"
    },
    "language_info": {
      "name": "python"
    }
  },
  "cells": [
    {
      "cell_type": "markdown",
      "source": [
        "# ***ESHAL*** ***KHAN***\n",
        "***SP23-BCS-095***"
      ],
      "metadata": {
        "id": "u-RwTR62_DWc"
      }
    },
    {
      "cell_type": "markdown",
      "source": [
        "**MATPLOTLIB**"
      ],
      "metadata": {
        "id": "CGYdFYZyD1jN"
      }
    },
    {
      "cell_type": "markdown",
      "source": [
        "library used for visualition of data through graphs ,etc no storage included"
      ],
      "metadata": {
        "id": "RAPer7_TYbyK"
      }
    },
    {
      "cell_type": "markdown",
      "source": [
        "**NUMPY**"
      ],
      "metadata": {
        "id": "T3BdK9M9D5VP"
      }
    },
    {
      "cell_type": "markdown",
      "source": [
        "library for advance numerical computation"
      ],
      "metadata": {
        "id": "3X1Ec2uGYk-K"
      }
    },
    {
      "cell_type": "markdown",
      "source": [
        "**LIST**"
      ],
      "metadata": {
        "id": "S9PzR18DECud"
      }
    },
    {
      "cell_type": "code",
      "source": [
        "Num = [1,2,3,4,5,6,7,8,9,10]\n",
        "print(Num)\n",
        "\n"
      ],
      "metadata": {
        "colab": {
          "base_uri": "https://localhost:8080/"
        },
        "id": "ffvr-wjNJCar",
        "outputId": "a59acd55-0591-438e-dbd7-947eb942734f"
      },
      "execution_count": 1,
      "outputs": [
        {
          "output_type": "stream",
          "name": "stdout",
          "text": [
            "[1, 2, 3, 4, 5, 6, 7, 8, 9, 10]\n"
          ]
        }
      ]
    },
    {
      "cell_type": "markdown",
      "source": [
        "**Sum**"
      ],
      "metadata": {
        "id": "YlZxFGfeL2vx"
      }
    },
    {
      "cell_type": "code",
      "source": [
        "Num = [1,2,3,4,5,6,7,8,9,10]\n",
        "print(sum(Num))"
      ],
      "metadata": {
        "colab": {
          "base_uri": "https://localhost:8080/"
        },
        "id": "n_qVAFkvJ40D",
        "outputId": "128dbfa8-ebe2-4027-cd68-c82627b0a156"
      },
      "execution_count": 2,
      "outputs": [
        {
          "output_type": "stream",
          "name": "stdout",
          "text": [
            "55\n"
          ]
        }
      ]
    },
    {
      "cell_type": "markdown",
      "source": [
        "**Max**"
      ],
      "metadata": {
        "id": "l1mKYrPfL5NP"
      }
    },
    {
      "cell_type": "code",
      "source": [
        "Num = [1,2,3,4,5,6,7,8,9,10]\n",
        "\n",
        "print(max(Num))"
      ],
      "metadata": {
        "colab": {
          "base_uri": "https://localhost:8080/"
        },
        "id": "gTPIZnFlKRGj",
        "outputId": "3d91ba8f-5017-46d2-b6d9-b45027df719b"
      },
      "execution_count": 3,
      "outputs": [
        {
          "output_type": "stream",
          "name": "stdout",
          "text": [
            "10\n"
          ]
        }
      ]
    },
    {
      "cell_type": "markdown",
      "source": [
        "**Min**"
      ],
      "metadata": {
        "id": "ItdzN1lVL78a"
      }
    },
    {
      "cell_type": "code",
      "source": [
        "Num = [1,2,3,4,5,6,7,8,9,10]\n",
        "print(min(Num))"
      ],
      "metadata": {
        "colab": {
          "base_uri": "https://localhost:8080/"
        },
        "id": "PJsCdhgTKXuo",
        "outputId": "19e3e1c0-de47-4b01-f3a3-4fb33cf049cc"
      },
      "execution_count": 4,
      "outputs": [
        {
          "output_type": "stream",
          "name": "stdout",
          "text": [
            "1\n"
          ]
        }
      ]
    },
    {
      "cell_type": "markdown",
      "source": [
        "**Append**"
      ],
      "metadata": {
        "id": "MB57iYPtL-OC"
      }
    },
    {
      "cell_type": "code",
      "source": [
        "Num = [1,2,3,4,5,6,7,8,9,10]\n",
        "Num.append(7)\n",
        "print(Num)"
      ],
      "metadata": {
        "colab": {
          "base_uri": "https://localhost:8080/"
        },
        "id": "wLSLtvg8LXSD",
        "outputId": "845692e5-f182-4ab8-b3df-87062af4052f"
      },
      "execution_count": 5,
      "outputs": [
        {
          "output_type": "stream",
          "name": "stdout",
          "text": [
            "[1, 2, 3, 4, 5, 6, 7, 8, 9, 10, 7]\n"
          ]
        }
      ]
    },
    {
      "cell_type": "markdown",
      "source": [
        "**Remove**"
      ],
      "metadata": {
        "id": "lGkKe6hwMBIL"
      }
    },
    {
      "cell_type": "code",
      "source": [
        "Num = [1,2,3,4,5,6,7,8,9,10]\n",
        "Num.remove(4)\n",
        "print(Num)"
      ],
      "metadata": {
        "colab": {
          "base_uri": "https://localhost:8080/"
        },
        "id": "hQHXETpZLikQ",
        "outputId": "e0f18ec4-c7bf-4914-9845-64913c7a04e7"
      },
      "execution_count": 6,
      "outputs": [
        {
          "output_type": "stream",
          "name": "stdout",
          "text": [
            "[1, 2, 3, 5, 6, 7, 8, 9, 10]\n"
          ]
        }
      ]
    },
    {
      "cell_type": "markdown",
      "source": [
        "**Sorting**"
      ],
      "metadata": {
        "id": "pfHKtW1iMI_X"
      }
    },
    {
      "cell_type": "code",
      "source": [
        "Num = [1,2,3,4,5,6,7,8,9,10]\n",
        "print('Ascending:',sorted(Num))\n",
        "print('Descending:', sorted(Num,reverse = True))"
      ],
      "metadata": {
        "colab": {
          "base_uri": "https://localhost:8080/"
        },
        "id": "ZwHTLcX0ML8J",
        "outputId": "8890f485-ad68-40c0-dc5d-8a301e9224a9"
      },
      "execution_count": 7,
      "outputs": [
        {
          "output_type": "stream",
          "name": "stdout",
          "text": [
            "Ascending: [1, 2, 3, 4, 5, 6, 7, 8, 9, 10]\n",
            "Descending: [10, 9, 8, 7, 6, 5, 4, 3, 2, 1]\n"
          ]
        }
      ]
    },
    {
      "cell_type": "markdown",
      "source": [
        "**TUPLE**"
      ],
      "metadata": {
        "id": "k0IQkdK7EFh1"
      }
    },
    {
      "cell_type": "markdown",
      "source": [
        "**creating** **a** **tuple**"
      ],
      "metadata": {
        "id": "YXWGzPFVMtvh"
      }
    },
    {
      "cell_type": "code",
      "source": [
        "fruits = (\"apple\",\"orange\",\"watermelon\",\"cherry\")\n",
        "print(fruits)"
      ],
      "metadata": {
        "colab": {
          "base_uri": "https://localhost:8080/"
        },
        "id": "opoHsTlZMx9R",
        "outputId": "c407418c-cdc3-408f-9788-b1c85326ab4b"
      },
      "execution_count": 8,
      "outputs": [
        {
          "output_type": "stream",
          "name": "stdout",
          "text": [
            "('apple', 'orange', 'watermelon', 'cherry')\n"
          ]
        }
      ]
    },
    {
      "cell_type": "markdown",
      "source": [
        "  **Print** **second** **and** **last** **element**"
      ],
      "metadata": {
        "id": "cKC8cGIsNOhY"
      }
    },
    {
      "cell_type": "code",
      "source": [
        "fruits = (\"apple\",\"orange\",\"watermelon\",\"cherry\")\n",
        "print(fruits[0])\n",
        "print(fruits[-1])"
      ],
      "metadata": {
        "colab": {
          "base_uri": "https://localhost:8080/"
        },
        "id": "-d0ctu2YNa14",
        "outputId": "f2b5867c-7435-4978-9d1b-223ed2d6965c"
      },
      "execution_count": 14,
      "outputs": [
        {
          "output_type": "stream",
          "name": "stdout",
          "text": [
            "apple\n",
            "cherry\n"
          ]
        }
      ]
    },
    {
      "cell_type": "markdown",
      "source": [
        "**try** **to** **modify**"
      ],
      "metadata": {
        "id": "YWaZCJIEOKEo"
      }
    },
    {
      "cell_type": "code",
      "source": [
        "fruits = (\"apple\",\"orange\",\"watermelon\",\"cherry\")\n",
        "print(fruits)\n",
        "fruits[3] = \"pineapple\""
      ],
      "metadata": {
        "colab": {
          "base_uri": "https://localhost:8080/",
          "height": 201
        },
        "id": "_n6Jl0B-OUjo",
        "outputId": "41cdbd0d-9569-4931-a139-0656c5e61fb6"
      },
      "execution_count": 16,
      "outputs": [
        {
          "output_type": "stream",
          "name": "stdout",
          "text": [
            "('apple', 'orange', 'watermelon', 'cherry')\n"
          ]
        },
        {
          "output_type": "error",
          "ename": "TypeError",
          "evalue": "'tuple' object does not support item assignment",
          "traceback": [
            "\u001b[0;31m---------------------------------------------------------------------------\u001b[0m",
            "\u001b[0;31mTypeError\u001b[0m                                 Traceback (most recent call last)",
            "\u001b[0;32m/tmp/ipython-input-4071864104.py\u001b[0m in \u001b[0;36m<cell line: 0>\u001b[0;34m()\u001b[0m\n\u001b[1;32m      1\u001b[0m \u001b[0mfruits\u001b[0m \u001b[0;34m=\u001b[0m \u001b[0;34m(\u001b[0m\u001b[0;34m\"apple\"\u001b[0m\u001b[0;34m,\u001b[0m\u001b[0;34m\"orange\"\u001b[0m\u001b[0;34m,\u001b[0m\u001b[0;34m\"watermelon\"\u001b[0m\u001b[0;34m,\u001b[0m\u001b[0;34m\"cherry\"\u001b[0m\u001b[0;34m)\u001b[0m\u001b[0;34m\u001b[0m\u001b[0;34m\u001b[0m\u001b[0m\n\u001b[1;32m      2\u001b[0m \u001b[0mprint\u001b[0m\u001b[0;34m(\u001b[0m\u001b[0mfruits\u001b[0m\u001b[0;34m)\u001b[0m\u001b[0;34m\u001b[0m\u001b[0;34m\u001b[0m\u001b[0m\n\u001b[0;32m----> 3\u001b[0;31m \u001b[0mfruits\u001b[0m\u001b[0;34m[\u001b[0m\u001b[0;36m3\u001b[0m\u001b[0;34m]\u001b[0m \u001b[0;34m=\u001b[0m \u001b[0;34m\"pineapple\"\u001b[0m\u001b[0;34m\u001b[0m\u001b[0;34m\u001b[0m\u001b[0m\n\u001b[0m",
            "\u001b[0;31mTypeError\u001b[0m: 'tuple' object does not support item assignment"
          ]
        }
      ]
    },
    {
      "cell_type": "markdown",
      "source": [
        "**convert the** **tuple** **into** **a** **list** **and** **modify**"
      ],
      "metadata": {
        "id": "MEbWqxkyPLyP"
      }
    },
    {
      "cell_type": "code",
      "source": [
        "fruits = (\"apple\",\"orange\",\"watermelon\",\"cherry\")\n",
        "fruit = list(fruits)\n",
        "fruit[3] = \"pineapple\"\n",
        "\n",
        "print('modified list : ',fruit)\n"
      ],
      "metadata": {
        "colab": {
          "base_uri": "https://localhost:8080/"
        },
        "id": "-hIWRtDaPabV",
        "outputId": "921f9590-2a34-46f1-9c54-dcd2cf2013d6"
      },
      "execution_count": 21,
      "outputs": [
        {
          "output_type": "stream",
          "name": "stdout",
          "text": [
            "modified list :  ['apple', 'orange', 'watermelon', 'pineapple']\n"
          ]
        }
      ]
    },
    {
      "cell_type": "markdown",
      "source": [
        "**SET**"
      ],
      "metadata": {
        "id": "eSeJOHvcEHcl"
      }
    },
    {
      "cell_type": "markdown",
      "source": [
        "**create two set with some common and unique elements**"
      ],
      "metadata": {
        "id": "AohuIQEDQ2Kn"
      }
    },
    {
      "cell_type": "code",
      "source": [
        "from typing import Union\n",
        "setA = {1,2,3,4,5,6}\n",
        "setB = {4,5,6,7}\n",
        "\n",
        "print('Union of Sets:',setA.union(setB))\n",
        "print('intersection of Sets:',setA.intersection(setB))\n",
        "print('Difference of Sets:',setA.difference(setB))\n"
      ],
      "metadata": {
        "colab": {
          "base_uri": "https://localhost:8080/"
        },
        "id": "vPWjZD7wUO0M",
        "outputId": "500466cc-7e2c-413b-edf6-b0d41c570247"
      },
      "execution_count": 23,
      "outputs": [
        {
          "output_type": "stream",
          "name": "stdout",
          "text": [
            "Union of Sets: {1, 2, 3, 4, 5, 6, 7}\n",
            "intersection of Sets: {4, 5, 6}\n",
            "Difference of Sets: {1, 2, 3}\n"
          ]
        }
      ]
    },
    {
      "cell_type": "markdown",
      "source": [
        "**Add a new element to a set**"
      ],
      "metadata": {
        "id": "vF9ZYpC-VXFL"
      }
    },
    {
      "cell_type": "code",
      "source": [
        "setA = {1,2,3,4,5,6}\n",
        "setA.add(9)\n",
        "print(setA)"
      ],
      "metadata": {
        "colab": {
          "base_uri": "https://localhost:8080/"
        },
        "id": "Iaq7X8djVawj",
        "outputId": "1adc6e4d-40ab-44fc-fa68-d7d9e3e5edc9"
      },
      "execution_count": 24,
      "outputs": [
        {
          "output_type": "stream",
          "name": "stdout",
          "text": [
            "{1, 2, 3, 4, 5, 6, 9}\n"
          ]
        }
      ]
    },
    {
      "cell_type": "markdown",
      "source": [
        "**Remove a element from Set**"
      ],
      "metadata": {
        "id": "pRIOj0YXViO8"
      }
    },
    {
      "cell_type": "code",
      "source": [
        "setA = {1,2,3,4,5,6}\n",
        "setA.remove(4)\n",
        "print(setA)"
      ],
      "metadata": {
        "colab": {
          "base_uri": "https://localhost:8080/"
        },
        "id": "DHh5fSXHVlr8",
        "outputId": "52c4b612-4af8-4bd8-c8bb-050b3ab43b3b"
      },
      "execution_count": 25,
      "outputs": [
        {
          "output_type": "stream",
          "name": "stdout",
          "text": [
            "{1, 2, 3, 5, 6}\n"
          ]
        }
      ]
    },
    {
      "cell_type": "markdown",
      "source": [
        "**DICTIONARY**"
      ],
      "metadata": {
        "id": "s8QOa69tEKK9"
      }
    },
    {
      "cell_type": "markdown",
      "source": [
        "**create a dictionary**"
      ],
      "metadata": {
        "id": "KWhJnOtYWL4r"
      }
    },
    {
      "cell_type": "code",
      "source": [
        "students = {'Eshal': 95 ,'Maryam' : 153 , 'Amna' : 71 }\n",
        "print(students)\n",
        "\n"
      ],
      "metadata": {
        "colab": {
          "base_uri": "https://localhost:8080/"
        },
        "id": "qJgMcTRNWO6J",
        "outputId": "6177a204-fa8f-41a6-88eb-7cab1dce2037"
      },
      "execution_count": 27,
      "outputs": [
        {
          "output_type": "stream",
          "name": "stdout",
          "text": [
            "{'Eshal': 95, 'Maryam': 153, 'Amna': 71}\n"
          ]
        }
      ]
    },
    {
      "cell_type": "markdown",
      "source": [
        "**Update** **values**"
      ],
      "metadata": {
        "id": "tGyD3UFmXZc4"
      }
    },
    {
      "cell_type": "code",
      "source": [
        "students = {'Eshal': 95 ,'Maryam' : 153 , 'Amna' : 71 }\n",
        "students['Eshal'] = 90\n",
        "print(students)"
      ],
      "metadata": {
        "colab": {
          "base_uri": "https://localhost:8080/"
        },
        "id": "YCbLlzO_Xcai",
        "outputId": "46315f52-7323-4f41-a8d3-c69f1ea6e5b9"
      },
      "execution_count": 28,
      "outputs": [
        {
          "output_type": "stream",
          "name": "stdout",
          "text": [
            "{'Eshal': 90, 'Maryam': 153, 'Amna': 71}\n"
          ]
        }
      ]
    },
    {
      "cell_type": "markdown",
      "source": [
        "**try to update key**"
      ],
      "metadata": {
        "id": "lps-JCLDXqD6"
      }
    },
    {
      "cell_type": "code",
      "source": [
        "students = {'Eshal': 95 ,'Eshal' : 153 , 'Eshal' : 71 }\n",
        "print(students)\n",
        "\n"
      ],
      "metadata": {
        "colab": {
          "base_uri": "https://localhost:8080/"
        },
        "id": "3KeYiVhIXt_6",
        "outputId": "7ebc3529-985a-4b33-de1b-fc437f219e96"
      },
      "execution_count": 32,
      "outputs": [
        {
          "output_type": "stream",
          "name": "stdout",
          "text": [
            "{'Eshal': 71}\n"
          ]
        }
      ]
    }
  ]
}