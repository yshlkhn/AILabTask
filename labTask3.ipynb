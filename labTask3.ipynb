{
  "nbformat": 4,
  "nbformat_minor": 0,
  "metadata": {
    "colab": {
      "provenance": []
    },
    "kernelspec": {
      "name": "python3",
      "display_name": "Python 3"
    },
    "language_info": {
      "name": "python"
    }
  },
  "cells": [
    {
      "cell_type": "markdown",
      "source": [
        "# ***ESHAL KHAN***\n",
        "**SP23-BCS-095**"
      ],
      "metadata": {
        "id": "ZJSD0Yl-FFkI"
      }
    },
    {
      "cell_type": "markdown",
      "source": [
        "**Implement Breadth-First Search (BFS) and Depth-First Search (DFS) to find paths between various cities in Pakistan.**"
      ],
      "metadata": {
        "id": "AgCLLsZAGD5n"
      }
    },
    {
      "cell_type": "markdown",
      "source": [
        "**deque**"
      ],
      "metadata": {
        "id": "U86EbH-iGUI4"
      }
    },
    {
      "cell_type": "code",
      "source": [
        "\n",
        "from collections import deque"
      ],
      "metadata": {
        "id": "Bw3TAYBYFPQ4"
      },
      "execution_count": 1,
      "outputs": []
    },
    {
      "cell_type": "markdown",
      "source": [
        "**Step 1: Represent the graph**"
      ],
      "metadata": {
        "id": "7f0FoZdHG22X"
      }
    },
    {
      "cell_type": "code",
      "source": [
        "pakistan_cities = {\n",
        "    'Karachi': ['Hyderabad'],\n",
        "    'Hyderabad': ['Karachi', 'Sukkur'],\n",
        "    'Sukkur': ['Hyderabad', 'Multan', 'Quetta'],\n",
        "    'Multan': ['Sukkur', 'Lahore'],\n",
        "    'Quetta': ['Sukkur'],\n",
        "    'Lahore': ['Multan', 'Islamabad'],\n",
        "    'Islamabad': ['Lahore', 'Peshawar'],\n",
        "    'Peshawar': ['Islamabad']\n",
        "}"
      ],
      "metadata": {
        "id": "VwCFnsewG4Yf"
      },
      "execution_count": 2,
      "outputs": []
    },
    {
      "cell_type": "markdown",
      "source": [
        "**Step 2: BFS and DFS Implementation**"
      ],
      "metadata": {
        "id": "-xWtqvStIZx3"
      }
    },
    {
      "cell_type": "markdown",
      "source": [
        "**part 1 : BFS**"
      ],
      "metadata": {
        "id": "Jj6U5bPPIkVX"
      }
    },
    {
      "cell_type": "code",
      "source": [
        "from collections import deque\n",
        "\n",
        "def bfs_shortest_path(graph, start, goal):\n",
        "    queue = deque([[start]])\n",
        "    visited = set()\n",
        "\n",
        "    while queue:\n",
        "        path = queue.popleft()\n",
        "        current_city = path[-1]\n",
        "\n",
        "        if current_city == goal:\n",
        "            return path\n",
        "\n",
        "        if current_city not in visited:\n",
        "            visited.add(current_city)\n",
        "\n",
        "            for neighbor in graph.get(current_city, []):\n",
        "                new_path = list(path)\n",
        "                new_path.append(neighbor)\n",
        "                queue.append(new_path)\n",
        "\n",
        "    return None\n",
        "\n",
        "\n",
        "\n",
        "\n",
        "start_city = \"Karachi\"\n",
        "goal_city = \"Lahore\"\n",
        "\n",
        "\n",
        "# BFS for the shortest path\n",
        "bfs_result = bfs_shortest_path(pakistan_cities, start_city, goal_city)\n",
        "print(\"BFS Shortest Path from Karachi to Lahore:\", bfs_result)"
      ],
      "metadata": {
        "colab": {
          "base_uri": "https://localhost:8080/"
        },
        "id": "t1o7FIUdIbhv",
        "outputId": "402fd709-5815-433d-bb10-9ea4cfbd3fab"
      },
      "execution_count": 7,
      "outputs": [
        {
          "output_type": "stream",
          "name": "stdout",
          "text": [
            "BFS Shortest Path from Karachi to Lahore: ['Karachi', 'Hyderabad', 'Sukkur', 'Multan', 'Lahore']\n"
          ]
        }
      ]
    },
    {
      "cell_type": "markdown",
      "source": [
        "**PART 2 : DFS**"
      ],
      "metadata": {
        "id": "AKlymu8aIzCP"
      }
    },
    {
      "cell_type": "code",
      "source": [
        "def dfs_path(graph, start, goal, path=None, visited=None):\n",
        "    if path is None:\n",
        "        path = []\n",
        "    if visited is None:\n",
        "        visited = set()\n",
        "\n",
        "    path.append(start)\n",
        "    visited.add(start)\n",
        "\n",
        "    if start == goal:\n",
        "        return path\n",
        "\n",
        "    for neighbor in graph.get(start, []):\n",
        "        if neighbor not in visited:\n",
        "            result = dfs_path(graph, neighbor, goal, path.copy(), visited.copy())\n",
        "            if result:\n",
        "                return result\n",
        "\n",
        "    return None\n",
        "\n",
        "\n",
        "\n",
        "start_city = \"Lahore\"\n",
        "goal_city = \"Peshawar\"\n",
        "# DFS for any path\n",
        "dfs_result = dfs_path(pakistan_cities, start_city, goal_city)\n",
        "print(\"DFS Path from Lahore to Peshawar:\", dfs_result)"
      ],
      "metadata": {
        "colab": {
          "base_uri": "https://localhost:8080/"
        },
        "id": "qtG-4FtmI7mn",
        "outputId": "6c99e35e-1c05-44e5-c8fd-212ca7869d0e"
      },
      "execution_count": 9,
      "outputs": [
        {
          "output_type": "stream",
          "name": "stdout",
          "text": [
            "DFS Path from Lahore to Peshawar: ['Lahore', 'Islamabad', 'Peshawar']\n"
          ]
        }
      ]
    }
  ]
}