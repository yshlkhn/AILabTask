{
  "nbformat": 4,
  "nbformat_minor": 0,
  "metadata": {
    "colab": {
      "provenance": [],
      "gpuType": "T4"
    },
    "kernelspec": {
      "name": "python3",
      "display_name": "Python 3"
    },
    "language_info": {
      "name": "python"
    },
    "accelerator": "GPU"
  },
  "cells": [
    {
      "cell_type": "markdown",
      "source": [
        "# **ESHAL KHAN (SP23-BCS-095)**"
      ],
      "metadata": {
        "id": "DTKVM56DTYuv"
      }
    },
    {
      "cell_type": "markdown",
      "source": [
        "**Python** **Basics**"
      ],
      "metadata": {
        "id": "Ce4ilOZbTos_"
      }
    },
    {
      "cell_type": "code",
      "source": [
        "print(\"Eshal khan\")"
      ],
      "metadata": {
        "colab": {
          "base_uri": "https://localhost:8080/"
        },
        "id": "5o_vysITTwMW",
        "outputId": "8ea1d181-b5ba-4580-9ee4-725f66928467"
      },
      "execution_count": 1,
      "outputs": [
        {
          "output_type": "stream",
          "name": "stdout",
          "text": [
            "Eshal khan\n"
          ]
        }
      ]
    },
    {
      "cell_type": "markdown",
      "source": [
        "**Creating** **Variables**"
      ],
      "metadata": {
        "id": "eGi2L4-1T2k-"
      }
    },
    {
      "cell_type": "code",
      "source": [
        "\n",
        "x = 10\n",
        "y=19\n",
        "z= x+y;\n",
        "print(z)\n"
      ],
      "metadata": {
        "colab": {
          "base_uri": "https://localhost:8080/"
        },
        "id": "50TfpxMmT7gH",
        "outputId": "cca9b117-ed93-4c2a-fb81-b941a531b92c"
      },
      "execution_count": 2,
      "outputs": [
        {
          "output_type": "stream",
          "name": "stdout",
          "text": [
            "29\n"
          ]
        }
      ]
    },
    {
      "cell_type": "markdown",
      "source": [
        "**Casting**"
      ],
      "metadata": {
        "id": "rMJdAwW5UFJH"
      }
    },
    {
      "cell_type": "code",
      "source": [
        "z = float(3)\n",
        "print(z)"
      ],
      "metadata": {
        "colab": {
          "base_uri": "https://localhost:8080/"
        },
        "id": "YIO7R7RJUHwf",
        "outputId": "10eaac11-1f61-490a-84ec-a4e926e1a792"
      },
      "execution_count": 5,
      "outputs": [
        {
          "output_type": "stream",
          "name": "stdout",
          "text": [
            "3.0\n"
          ]
        }
      ]
    },
    {
      "cell_type": "markdown",
      "source": [
        "**Get** **the** **Type**"
      ],
      "metadata": {
        "id": "ZRrVl-wHUQ7E"
      }
    },
    {
      "cell_type": "code",
      "source": [
        "\n",
        "x = 5\n",
        "print(type(x))"
      ],
      "metadata": {
        "colab": {
          "base_uri": "https://localhost:8080/"
        },
        "id": "cDyII9QrUTHP",
        "outputId": "609a4ba5-b043-48ee-8a38-8dc1ce1d60dd"
      },
      "execution_count": 6,
      "outputs": [
        {
          "output_type": "stream",
          "name": "stdout",
          "text": [
            "<class 'int'>\n"
          ]
        }
      ]
    },
    {
      "cell_type": "markdown",
      "source": [
        "**Case**-**Sensitive**"
      ],
      "metadata": {
        "id": "9kMqot-oUZV3"
      }
    },
    {
      "cell_type": "code",
      "source": [
        "a = 10\n",
        "A = 20\n",
        "print(a)\n",
        "print(A)"
      ],
      "metadata": {
        "colab": {
          "base_uri": "https://localhost:8080/"
        },
        "id": "unUfZ06HUox4",
        "outputId": "6e4a41ee-174a-490e-bc22-4161756db1f6"
      },
      "execution_count": 7,
      "outputs": [
        {
          "output_type": "stream",
          "name": "stdout",
          "text": [
            "10\n",
            "20\n"
          ]
        }
      ]
    },
    {
      "cell_type": "markdown",
      "source": [
        "**Variable** **Names**"
      ],
      "metadata": {
        "id": "cuhbFq_8U2J_"
      }
    },
    {
      "cell_type": "code",
      "source": [
        "eshal = 10\n",
        "print(eshal)"
      ],
      "metadata": {
        "colab": {
          "base_uri": "https://localhost:8080/"
        },
        "id": "GGQKci9yU94v",
        "outputId": "b733430b-e0b4-4c49-8a07-cb2b169601c4"
      },
      "execution_count": 8,
      "outputs": [
        {
          "output_type": "stream",
          "name": "stdout",
          "text": [
            "10\n"
          ]
        }
      ]
    },
    {
      "cell_type": "markdown",
      "source": [
        "**Many** **Values** **to** **Multiple** **Variables**"
      ],
      "metadata": {
        "id": "bSNASUl1VF63"
      }
    },
    {
      "cell_type": "code",
      "source": [
        "a ,b ,c = 1, 2, 3\n",
        "print(a,b,c)"
      ],
      "metadata": {
        "colab": {
          "base_uri": "https://localhost:8080/"
        },
        "id": "sjBl-TMgVL-n",
        "outputId": "429f4aba-3034-47ab-d5cd-0d4fc8912fb8"
      },
      "execution_count": 9,
      "outputs": [
        {
          "output_type": "stream",
          "name": "stdout",
          "text": [
            "1 2 3\n"
          ]
        }
      ]
    },
    {
      "cell_type": "markdown",
      "source": [
        "\n",
        "**One** **Value** **to** **Multiple** **Variables**"
      ],
      "metadata": {
        "id": "_Z6sbyVYVVG3"
      }
    },
    {
      "cell_type": "code",
      "source": [
        "a = b = c = 10\n",
        "print(a,b,c)"
      ],
      "metadata": {
        "colab": {
          "base_uri": "https://localhost:8080/"
        },
        "id": "JqKAta7GVb0w",
        "outputId": "e2580e98-3de3-48ee-cf64-e3a19e293406"
      },
      "execution_count": 10,
      "outputs": [
        {
          "output_type": "stream",
          "name": "stdout",
          "text": [
            "10 10 10\n"
          ]
        }
      ]
    },
    {
      "cell_type": "markdown",
      "source": [
        "**Output** **Variables**"
      ],
      "metadata": {
        "id": "0ZhGcxTvVg9k"
      }
    },
    {
      "cell_type": "code",
      "source": [
        "print(\"eshal\")"
      ],
      "metadata": {
        "colab": {
          "base_uri": "https://localhost:8080/"
        },
        "id": "VuDdVGanVkzH",
        "outputId": "acfce2e4-a746-401a-cfa4-827502fb89e0"
      },
      "execution_count": 11,
      "outputs": [
        {
          "output_type": "stream",
          "name": "stdout",
          "text": [
            "eshal\n"
          ]
        }
      ]
    },
    {
      "cell_type": "markdown",
      "source": [
        "**Global** **Variables**"
      ],
      "metadata": {
        "id": "d1K31fuDVp_I"
      }
    },
    {
      "cell_type": "code",
      "source": [
        "a = \"lab task 1\"\n",
        "\n",
        "def example():\n",
        "  print(a)\n",
        "\n",
        "example()"
      ],
      "metadata": {
        "colab": {
          "base_uri": "https://localhost:8080/"
        },
        "id": "nRc3OTVGV2EH",
        "outputId": "da21ce3b-bff5-4bc4-bb16-4b49b3e588e0"
      },
      "execution_count": 13,
      "outputs": [
        {
          "output_type": "stream",
          "name": "stdout",
          "text": [
            "lab task 1\n"
          ]
        }
      ]
    },
    {
      "cell_type": "markdown",
      "source": [
        "**Dictionary**"
      ],
      "metadata": {
        "id": "mMd4Me2tWNDP"
      }
    },
    {
      "cell_type": "code",
      "source": [
        "student = {\n",
        "    \"name\" : \"eshal\",\n",
        "    \"GPA\" : 3.88\n",
        "\n",
        "}\n",
        "\n",
        "print(student)"
      ],
      "metadata": {
        "colab": {
          "base_uri": "https://localhost:8080/"
        },
        "id": "OSvDR-EKWdE_",
        "outputId": "b6d6ca35-c976-4d24-9418-e09a85a8b814"
      },
      "execution_count": 14,
      "outputs": [
        {
          "output_type": "stream",
          "name": "stdout",
          "text": [
            "{'name': 'eshal', 'GPA': 3.88}\n"
          ]
        }
      ]
    },
    {
      "cell_type": "markdown",
      "source": [
        "**Dictionary** **Length**"
      ],
      "metadata": {
        "id": "BFESi38TW4jH"
      }
    },
    {
      "cell_type": "code",
      "source": [
        "student = {\n",
        "    \"name\" : \"eshal\",\n",
        "    \"GPA\" : 3.88\n",
        "\n",
        "}\n",
        "\n",
        "print(len(student))"
      ],
      "metadata": {
        "colab": {
          "base_uri": "https://localhost:8080/"
        },
        "id": "ADKb8tmMW8tv",
        "outputId": "42188a8f-da8c-4d51-af01-d1abc6308050"
      },
      "execution_count": 15,
      "outputs": [
        {
          "output_type": "stream",
          "name": "stdout",
          "text": [
            "2\n"
          ]
        }
      ]
    },
    {
      "cell_type": "markdown",
      "source": [
        "**Update** **Dictionary**"
      ],
      "metadata": {
        "id": "DUwxiOsuXEYP"
      }
    },
    {
      "cell_type": "code",
      "source": [
        "student = {\n",
        "    \"name\" : \"eshal\",\n",
        "    \"GPA\" : 3.88\n",
        "\n",
        "}\n",
        "\n",
        "student[\"GPA\"] = 3.89\n",
        "\n",
        "print(student)"
      ],
      "metadata": {
        "colab": {
          "base_uri": "https://localhost:8080/"
        },
        "id": "tYOmpdxoXMmH",
        "outputId": "1c53a2e3-476a-4d69-e63e-1188489685c6"
      },
      "execution_count": 16,
      "outputs": [
        {
          "output_type": "stream",
          "name": "stdout",
          "text": [
            "{'name': 'eshal', 'GPA': 3.89}\n"
          ]
        }
      ]
    },
    {
      "cell_type": "markdown",
      "source": [
        "**CONDITIONS**"
      ],
      "metadata": {
        "id": "wVLIMCPKXXkf"
      }
    },
    {
      "cell_type": "code",
      "source": [
        "a = 200\n",
        "b = 33\n",
        "if b > a:\n",
        "  print(\"b is greater than a\")\n",
        "elif a == b:\n",
        "  print(\"a and b are equal\")\n",
        "else:\n",
        "  print(\"a is greater than b\")"
      ],
      "metadata": {
        "colab": {
          "base_uri": "https://localhost:8080/"
        },
        "id": "5e4i6Vi-XpKX",
        "outputId": "4c953ec0-e3f7-42aa-820a-87e69660a729"
      },
      "execution_count": 17,
      "outputs": [
        {
          "output_type": "stream",
          "name": "stdout",
          "text": [
            "a is greater than b\n"
          ]
        }
      ]
    },
    {
      "cell_type": "markdown",
      "source": [
        "**The** **while** **Loop**"
      ],
      "metadata": {
        "id": "BDYiyaRzXqtf"
      }
    },
    {
      "cell_type": "code",
      "source": [
        "x = 5\n",
        "\n",
        "while x < 10:\n",
        "    print(x)\n",
        "    x+=1\n"
      ],
      "metadata": {
        "colab": {
          "base_uri": "https://localhost:8080/"
        },
        "id": "ljz41jjpXwbY",
        "outputId": "9a1d2b35-264f-445c-cb12-60704216f255"
      },
      "execution_count": 26,
      "outputs": [
        {
          "output_type": "stream",
          "name": "stdout",
          "text": [
            "5\n",
            "6\n",
            "7\n",
            "8\n",
            "9\n"
          ]
        }
      ]
    },
    {
      "cell_type": "markdown",
      "source": [
        "**For** **Loops**"
      ],
      "metadata": {
        "id": "KbdOQCl0ZKRQ"
      }
    },
    {
      "cell_type": "code",
      "source": [
        "\n",
        "student = [\"amna\", \"maryam\", \"eshal\"]\n",
        "for x in student:\n",
        "  print(x)"
      ],
      "metadata": {
        "colab": {
          "base_uri": "https://localhost:8080/"
        },
        "id": "UbFvfEKlZO0A",
        "outputId": "7874950b-ee22-4e28-d873-3d7079909011"
      },
      "execution_count": 27,
      "outputs": [
        {
          "output_type": "stream",
          "name": "stdout",
          "text": [
            "amna\n",
            "maryam\n",
            "eshal\n"
          ]
        }
      ]
    },
    {
      "cell_type": "markdown",
      "source": [
        "**Creating** **a** **Function**"
      ],
      "metadata": {
        "id": "RP15IU_GZezf"
      }
    },
    {
      "cell_type": "code",
      "source": [
        "def func():\n",
        "  print(\"eshal\")\n",
        "\n",
        "\n",
        "\n",
        "func()"
      ],
      "metadata": {
        "colab": {
          "base_uri": "https://localhost:8080/"
        },
        "id": "1p9cy1dTZjun",
        "outputId": "f9313278-a049-4992-ac68-cee1cc8d6251"
      },
      "execution_count": 28,
      "outputs": [
        {
          "output_type": "stream",
          "name": "stdout",
          "text": [
            "eshal\n"
          ]
        }
      ]
    },
    {
      "cell_type": "markdown",
      "source": [
        "**Arguments**"
      ],
      "metadata": {
        "id": "Dn3Q6DN4ZuaQ"
      }
    },
    {
      "cell_type": "code",
      "source": [
        "def func(lastname):\n",
        "  print(\"eshal\"+lastname)\n",
        "\n",
        "\n",
        "\n",
        "func(\"khan\")"
      ],
      "metadata": {
        "colab": {
          "base_uri": "https://localhost:8080/"
        },
        "id": "2-fZsrUUZwtb",
        "outputId": "1bf1b5dc-3309-44bb-be6a-ad34b0502073"
      },
      "execution_count": 31,
      "outputs": [
        {
          "output_type": "stream",
          "name": "stdout",
          "text": [
            "eshalkhan\n"
          ]
        }
      ]
    },
    {
      "cell_type": "markdown",
      "source": [
        "**Default** **Parameter** **Value**"
      ],
      "metadata": {
        "id": "9lRTtNSHaAe_"
      }
    },
    {
      "cell_type": "code",
      "source": [
        "def func(lastname = \"Jahangir\"):\n",
        "  print(\"eshal\"+lastname)\n",
        "\n",
        "\n",
        "\n",
        "func(\"khan\")\n",
        "func()"
      ],
      "metadata": {
        "colab": {
          "base_uri": "https://localhost:8080/"
        },
        "id": "q2rTJEaMaHuv",
        "outputId": "93f7b974-1393-43c1-d4e5-f67824417c28"
      },
      "execution_count": 32,
      "outputs": [
        {
          "output_type": "stream",
          "name": "stdout",
          "text": [
            "eshalkhan\n",
            "eshalJahangir\n"
          ]
        }
      ]
    },
    {
      "cell_type": "markdown",
      "source": [
        "\n",
        "**Return** **Values**"
      ],
      "metadata": {
        "id": "tlVeviOEaPRX"
      }
    },
    {
      "cell_type": "code",
      "source": [
        "def func():\n",
        "  return 5\n",
        "\n",
        "\n",
        "print(func())\n"
      ],
      "metadata": {
        "colab": {
          "base_uri": "https://localhost:8080/"
        },
        "id": "EJeQFiabaSag",
        "outputId": "db51db33-12c1-4180-beb2-eeaff2ae8967"
      },
      "execution_count": 34,
      "outputs": [
        {
          "output_type": "stream",
          "name": "stdout",
          "text": [
            "5\n"
          ]
        }
      ]
    }
  ]
}